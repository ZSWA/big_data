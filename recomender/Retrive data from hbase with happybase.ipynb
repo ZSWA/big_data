{
 "cells": [
  {
   "cell_type": "code",
   "execution_count": 1,
   "id": "0cfa9802",
   "metadata": {},
   "outputs": [
    {
     "name": "stdout",
     "output_type": "stream",
     "text": [
      "Requirement already satisfied: happybase in c:\\users\\nufa\\anaconda3\\lib\\site-packages (1.2.0)\n",
      "Requirement already satisfied: six in c:\\users\\nufa\\anaconda3\\lib\\site-packages (from happybase) (1.16.0)\n",
      "Requirement already satisfied: thriftpy2>=0.4 in c:\\users\\nufa\\anaconda3\\lib\\site-packages (from happybase) (0.4.17)\n",
      "Requirement already satisfied: ply<4.0,>=3.4 in c:\\users\\nufa\\anaconda3\\lib\\site-packages (from thriftpy2>=0.4->happybase) (3.11)\n"
     ]
    }
   ],
   "source": [
    "!pip install happybase"
   ]
  },
  {
   "cell_type": "code",
   "execution_count": 2,
   "id": "31227556",
   "metadata": {},
   "outputs": [],
   "source": [
    "import happybase\n",
    "import pandas as pd"
   ]
  },
  {
   "cell_type": "code",
   "execution_count": 3,
   "id": "ae1a762d",
   "metadata": {},
   "outputs": [],
   "source": [
    "connection = happybase.Connection('localhost', 9090)\n",
    "books = connection.table('books')\n",
    "users = connection.table('users')\n",
    "ratings = connection.table('ratings')"
   ]
  },
  {
   "cell_type": "code",
   "execution_count": 4,
   "id": "a0b28192",
   "metadata": {},
   "outputs": [],
   "source": [
    "users_data = []\n",
    "books_data = []\n",
    "ratings_data = []\n",
    "\n",
    "for key, data in books.scan():\n",
    "    row_data = {'row_key': key.decode('utf-8')}\n",
    "    for col, value in data.items():\n",
    "        row_data[col.decode('utf-8').replace('info:', '')] = value.decode('utf-8')\n",
    "    books_data.append(row_data)\n",
    "\n",
    "for key, data in users.scan():\n",
    "    row_data = {'row_key': key.decode('utf-8')}\n",
    "    for col, value in data.items():\n",
    "        row_data[col.decode('utf-8').replace('info:', '')] = value.decode('utf-8')\n",
    "    users_data.append(row_data)\n",
    "    \n",
    "for key, data in ratings.scan():\n",
    "    row_data = {'row_key': key.decode('utf-8')}\n",
    "    for col, value in data.items():\n",
    "        row_data[col.decode('utf-8').replace('info:', '')] = value.decode('utf-8')\n",
    "    ratings_data.append(row_data)"
   ]
  },
  {
   "cell_type": "code",
   "execution_count": 5,
   "id": "4662257d",
   "metadata": {},
   "outputs": [
    {
     "data": {
      "text/plain": [
       "{'row_key': '10',\n",
       " 'Book-Author': 'David Adams Richards',\n",
       " 'Book-Title': 'Nights Below Station Street',\n",
       " 'ISBN': '0771074670',\n",
       " 'Image-URL-L': 'http://images.amazon.com/images/P/0771074670.01.LZZZZZZZ.jpg',\n",
       " 'Image-URL-M': 'http://images.amazon.com/images/P/0771074670.01.MZZZZZZZ.jpg',\n",
       " 'Image-URL-S': 'http://images.amazon.com/images/P/0771074670.01.THUMBZZZ.jpg',\n",
       " 'Publisher': 'Emblem Editions',\n",
       " 'Year-Of-Publication': '1988'}"
      ]
     },
     "execution_count": 5,
     "metadata": {},
     "output_type": "execute_result"
    }
   ],
   "source": [
    "books_data[2]"
   ]
  },
  {
   "cell_type": "code",
   "execution_count": 6,
   "id": "ee8e861e",
   "metadata": {},
   "outputs": [],
   "source": [
    "df_books = pd.DataFrame(books_data)\n",
    "df_users = pd.DataFrame(users_data)\n",
    "df_ratings = pd.DataFrame(ratings_data)"
   ]
  },
  {
   "cell_type": "code",
   "execution_count": 8,
   "id": "b8ee7262",
   "metadata": {},
   "outputs": [
    {
     "data": {
      "text/html": [
       "<div>\n",
       "<style scoped>\n",
       "    .dataframe tbody tr th:only-of-type {\n",
       "        vertical-align: middle;\n",
       "    }\n",
       "\n",
       "    .dataframe tbody tr th {\n",
       "        vertical-align: top;\n",
       "    }\n",
       "\n",
       "    .dataframe thead th {\n",
       "        text-align: right;\n",
       "    }\n",
       "</style>\n",
       "<table border=\"1\" class=\"dataframe\">\n",
       "  <thead>\n",
       "    <tr style=\"text-align: right;\">\n",
       "      <th></th>\n",
       "      <th>row_key</th>\n",
       "      <th>Book-Author</th>\n",
       "      <th>Book-Title</th>\n",
       "      <th>ISBN</th>\n",
       "      <th>Image-URL-L</th>\n",
       "      <th>Image-URL-M</th>\n",
       "      <th>Image-URL-S</th>\n",
       "      <th>Publisher</th>\n",
       "      <th>Year-Of-Publication</th>\n",
       "    </tr>\n",
       "  </thead>\n",
       "  <tbody>\n",
       "    <tr>\n",
       "      <th>0</th>\n",
       "      <td>0</td>\n",
       "      <td>Mark P. O. Morford</td>\n",
       "      <td>Classical Mythology</td>\n",
       "      <td>0195153448</td>\n",
       "      <td>http://images.amazon.com/images/P/0195153448.0...</td>\n",
       "      <td>http://images.amazon.com/images/P/0195153448.0...</td>\n",
       "      <td>http://images.amazon.com/images/P/0195153448.0...</td>\n",
       "      <td>Oxford University Press</td>\n",
       "      <td>2002</td>\n",
       "    </tr>\n",
       "    <tr>\n",
       "      <th>1</th>\n",
       "      <td>1</td>\n",
       "      <td>Richard Bruce Wright</td>\n",
       "      <td>Clara Callan</td>\n",
       "      <td>0002005018</td>\n",
       "      <td>http://images.amazon.com/images/P/0002005018.0...</td>\n",
       "      <td>http://images.amazon.com/images/P/0002005018.0...</td>\n",
       "      <td>http://images.amazon.com/images/P/0002005018.0...</td>\n",
       "      <td>HarperFlamingo Canada</td>\n",
       "      <td>2001</td>\n",
       "    </tr>\n",
       "    <tr>\n",
       "      <th>2</th>\n",
       "      <td>10</td>\n",
       "      <td>David Adams Richards</td>\n",
       "      <td>Nights Below Station Street</td>\n",
       "      <td>0771074670</td>\n",
       "      <td>http://images.amazon.com/images/P/0771074670.0...</td>\n",
       "      <td>http://images.amazon.com/images/P/0771074670.0...</td>\n",
       "      <td>http://images.amazon.com/images/P/0771074670.0...</td>\n",
       "      <td>Emblem Editions</td>\n",
       "      <td>1988</td>\n",
       "    </tr>\n",
       "    <tr>\n",
       "      <th>3</th>\n",
       "      <td>100</td>\n",
       "      <td>William Abrahams</td>\n",
       "      <td>Prize Stories, 1987: The O'Henry Awards</td>\n",
       "      <td>0385235941</td>\n",
       "      <td>http://images.amazon.com/images/P/0385235941.0...</td>\n",
       "      <td>http://images.amazon.com/images/P/0385235941.0...</td>\n",
       "      <td>http://images.amazon.com/images/P/0385235941.0...</td>\n",
       "      <td>Doubleday Books</td>\n",
       "      <td>1987</td>\n",
       "    </tr>\n",
       "    <tr>\n",
       "      <th>4</th>\n",
       "      <td>1000</td>\n",
       "      <td>Meg Cabot</td>\n",
       "      <td>All-American Girl</td>\n",
       "      <td>0064472779</td>\n",
       "      <td>http://images.amazon.com/images/P/0064472779.0...</td>\n",
       "      <td>http://images.amazon.com/images/P/0064472779.0...</td>\n",
       "      <td>http://images.amazon.com/images/P/0064472779.0...</td>\n",
       "      <td>HarperTrophy</td>\n",
       "      <td>2003</td>\n",
       "    </tr>\n",
       "  </tbody>\n",
       "</table>\n",
       "</div>"
      ],
      "text/plain": [
       "  row_key           Book-Author                               Book-Title  \\\n",
       "0       0    Mark P. O. Morford                      Classical Mythology   \n",
       "1       1  Richard Bruce Wright                             Clara Callan   \n",
       "2      10  David Adams Richards              Nights Below Station Street   \n",
       "3     100      William Abrahams  Prize Stories, 1987: The O'Henry Awards   \n",
       "4    1000             Meg Cabot                        All-American Girl   \n",
       "\n",
       "         ISBN                                        Image-URL-L  \\\n",
       "0  0195153448  http://images.amazon.com/images/P/0195153448.0...   \n",
       "1  0002005018  http://images.amazon.com/images/P/0002005018.0...   \n",
       "2  0771074670  http://images.amazon.com/images/P/0771074670.0...   \n",
       "3  0385235941  http://images.amazon.com/images/P/0385235941.0...   \n",
       "4  0064472779  http://images.amazon.com/images/P/0064472779.0...   \n",
       "\n",
       "                                         Image-URL-M  \\\n",
       "0  http://images.amazon.com/images/P/0195153448.0...   \n",
       "1  http://images.amazon.com/images/P/0002005018.0...   \n",
       "2  http://images.amazon.com/images/P/0771074670.0...   \n",
       "3  http://images.amazon.com/images/P/0385235941.0...   \n",
       "4  http://images.amazon.com/images/P/0064472779.0...   \n",
       "\n",
       "                                         Image-URL-S                Publisher  \\\n",
       "0  http://images.amazon.com/images/P/0195153448.0...  Oxford University Press   \n",
       "1  http://images.amazon.com/images/P/0002005018.0...    HarperFlamingo Canada   \n",
       "2  http://images.amazon.com/images/P/0771074670.0...          Emblem Editions   \n",
       "3  http://images.amazon.com/images/P/0385235941.0...          Doubleday Books   \n",
       "4  http://images.amazon.com/images/P/0064472779.0...             HarperTrophy   \n",
       "\n",
       "  Year-Of-Publication  \n",
       "0                2002  \n",
       "1                2001  \n",
       "2                1988  \n",
       "3                1987  \n",
       "4                2003  "
      ]
     },
     "execution_count": 8,
     "metadata": {},
     "output_type": "execute_result"
    }
   ],
   "source": [
    "df_books.head()"
   ]
  },
  {
   "cell_type": "code",
   "execution_count": null,
   "id": "7a80ef3b",
   "metadata": {},
   "outputs": [],
   "source": [
    "df_ratings['Book-Rating'] = df_ratings['Book-Rating'].astype('int64')"
   ]
  },
  {
   "cell_type": "code",
   "execution_count": null,
   "id": "9317853b",
   "metadata": {
    "colab": {
     "base_uri": "https://localhost:8080/",
     "height": 434
    },
    "id": "Sob1h-kkc9gw",
    "outputId": "e3013a74-7dde-48b3-bcd8-a4aad102668f"
   },
   "outputs": [],
   "source": [
    "# Merge books and ratings on ISBN\n",
    "merged_data = pd.merge(df_ratings, df_books, on='ISBN', how='inner')\n",
    "\n",
    "# Calculate the number of users and average rating for each book\n",
    "book_stats = merged_data.groupby('ISBN').agg({'User-ID': 'count', 'Book-Rating': 'mean'}).reset_index()\n",
    "\n",
    "# Merge the book_stats with the original books DataFrame\n",
    "final_data = pd.merge(df_books, book_stats, on='ISBN', how='left')\n",
    "\n",
    "# Rename the columns for clarity\n",
    "final_data.rename(columns={'User-ID': 'num_users', 'Book-Rating': 'average_rating'}, inplace=True)\n",
    "\n",
    "# Fill NaN values with 0 for books with no ratings\n",
    "final_data.fillna(0, inplace=True)\n",
    "\n",
    "# Display the first few rows of the final DataFrame\n",
    "final_data.head()"
   ]
  },
  {
   "cell_type": "code",
   "execution_count": null,
   "id": "fcaa2f21",
   "metadata": {},
   "outputs": [],
   "source": [
    "final_data.iloc[1]"
   ]
  },
  {
   "cell_type": "code",
   "execution_count": null,
   "id": "418e283e",
   "metadata": {
    "colab": {
     "base_uri": "https://localhost:8080/",
     "height": 518
    },
    "id": "nbtCh7gOdgde",
    "outputId": "b9f028f1-9a01-4b2c-ce2c-8db76378bdb7"
   },
   "outputs": [],
   "source": [
    "final_data_sorted = final_data.sort_values(by='num_users', ascending=False)\n",
    "# Hapus baris dengan rating rata-rata 0 dan jumlah rating 0\n",
    "final_data_sorted = final_data_sorted.loc[(final_data_sorted['num_users'] != 0) & (final_data_sorted['average_rating'] != 0)]\n",
    "\n",
    "# Display the sorted DataFrame\n",
    "final_data_sorted[149830:]"
   ]
  },
  {
   "cell_type": "code",
   "execution_count": null,
   "id": "8a7785ae",
   "metadata": {
    "colab": {
     "base_uri": "https://localhost:8080/"
    },
    "id": "s-SCHoLDksxD",
    "outputId": "181dec4a-bf2e-47b1-8978-77e987df93f1"
   },
   "outputs": [],
   "source": [
    "# Calculate the mean after cleaning the data\n",
    "C = final_data_sorted['average_rating'].mean()\n",
    "m = final_data_sorted['num_users'].quantile(0.90)\n",
    "print(C, m)"
   ]
  },
  {
   "cell_type": "code",
   "execution_count": null,
   "id": "69c9324c",
   "metadata": {
    "colab": {
     "base_uri": "https://localhost:8080/"
    },
    "id": "IoVazWEOlm0K",
    "outputId": "29d88d65-b35f-4e49-cdf0-5b3a88f3e4d0"
   },
   "outputs": [],
   "source": [
    "# Filter out all qualified movies into a new DataFrame\n",
    "q_books = final_data_sorted.copy().loc[final_data_sorted['num_users'] >= m]\n",
    "q_books.shape"
   ]
  },
  {
   "cell_type": "code",
   "execution_count": null,
   "id": "fd57bc32",
   "metadata": {
    "id": "ei-AgyJFl2uv"
   },
   "outputs": [],
   "source": [
    "# Function that computes the weighted rating of each movie\n",
    "def weighted_rating(x, m=m, C=C):\n",
    "    v = x['num_users']\n",
    "    R = x['average_rating']\n",
    "    # Calculation based on the IMDB formula\n",
    "    return (v/(v+m) * R) + (m/(m+v) * C)"
   ]
  },
  {
   "cell_type": "code",
   "execution_count": null,
   "id": "27fd329e",
   "metadata": {
    "id": "JObiIf92l9kH"
   },
   "outputs": [],
   "source": [
    "# Define a new feature 'score' and calculate its value with `weighted_rating()`\n",
    "q_books['score'] = q_books.apply(weighted_rating, axis=1)"
   ]
  },
  {
   "cell_type": "code",
   "execution_count": null,
   "id": "3ee32bb0",
   "metadata": {
    "colab": {
     "base_uri": "https://localhost:8080/",
     "height": 677
    },
    "id": "Lvvl-_42l_KH",
    "outputId": "ad51868b-3733-41ec-aa7f-39c8d4a6fa79"
   },
   "outputs": [],
   "source": [
    "#Sort movies based on score calculated above\n",
    "q_books = q_books.sort_values('score', ascending=False)\n",
    "\n",
    "#Print the top 15 movies\n",
    "q_books[['Book-Title', 'num_users', 'average_rating', 'score']].head(20)\n"
   ]
  },
  {
   "cell_type": "code",
   "execution_count": null,
   "id": "6dc91243",
   "metadata": {},
   "outputs": [],
   "source": [
    "q_books.to_csv(r\"recomender_result.csv\", index=False, sep=\"|\")"
   ]
  },
  {
   "cell_type": "code",
   "execution_count": null,
   "id": "c7f3c792",
   "metadata": {},
   "outputs": [],
   "source": []
  }
 ],
 "metadata": {
  "kernelspec": {
   "display_name": "Python 3 (ipykernel)",
   "language": "python",
   "name": "python3"
  },
  "language_info": {
   "codemirror_mode": {
    "name": "ipython",
    "version": 3
   },
   "file_extension": ".py",
   "mimetype": "text/x-python",
   "name": "python",
   "nbconvert_exporter": "python",
   "pygments_lexer": "ipython3",
   "version": "3.11.5"
  }
 },
 "nbformat": 4,
 "nbformat_minor": 5
}
